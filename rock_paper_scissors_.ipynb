{
  "nbformat": 4,
  "nbformat_minor": 0,
  "metadata": {
    "colab": {
      "name": "rock paper scissors .ipynb",
      "provenance": [],
      "collapsed_sections": [],
      "authorship_tag": "ABX9TyOtijLpfl8A9d3a6KhLX5hs",
      "include_colab_link": true
    },
    "kernelspec": {
      "name": "python3",
      "display_name": "Python 3"
    },
    "language_info": {
      "name": "python"
    }
  },
  "cells": [
    {
      "cell_type": "markdown",
      "metadata": {
        "id": "view-in-github",
        "colab_type": "text"
      },
      "source": [
        "<a href=\"https://colab.research.google.com/github/lydiaberta/rock_paper_scissors/blob/main/rock_paper_scissors_.ipynb\" target=\"_parent\"><img src=\"https://colab.research.google.com/assets/colab-badge.svg\" alt=\"Open In Colab\"/></a>"
      ]
    },
    {
      "cell_type": "code",
      "metadata": {
        "id": "wZGbnJvidg3x"
      },
      "source": [
        ""
      ],
      "execution_count": null,
      "outputs": []
    },
    {
      "cell_type": "markdown",
      "metadata": {
        "id": "Y_-doJQNrKZm"
      },
      "source": [
        ""
      ]
    },
    {
      "cell_type": "code",
      "metadata": {
        "colab": {
          "base_uri": "https://localhost:8080/"
        },
        "id": "eaMhJToprK2M",
        "outputId": "3e019a84-1129-46bb-b657-a240bd06b406"
      },
      "source": [
        "import random\n",
        "choices = [\"R\", \"P\", \"S\"]\n",
        "computer = random.choice(choices)\n",
        "player = input(\"R is for rock S is for scissors and P is for paper \")\n",
        "if computer == \"R\" and player == \"R\":\n",
        "    print(\"nobody wins. its a tie!\")\n",
        "elif computer == \"R\" and player == \"P\":\n",
        "  print(\"you win!\")\n",
        "elif computer == \"R\" and player == \"S\":\n",
        "  print(\"you lose and I win!\")\n",
        "elif computer == \"P\" and player == \"S\":\n",
        "  print(\"you win!\")\n",
        "elif computer == \"P\" and player == \"P\":\n",
        "  print(\"it is a tie!\")\n",
        "elif computer == \"P\" and player == \"R\":\n",
        "  print(\"you lose and I win!\")\n",
        "elif computer == \"S\" and player == \"P\":\n",
        "  print(\"you lose and I win!\")\n",
        "elif computer == \"S\" and player == \"S\":\n",
        "  print(\"nobody wins. it is a tie!\")\n",
        "elif computer == \"S\" and player == \"R\":\n",
        "  print(\"you win!\")"
      ],
      "execution_count": null,
      "outputs": [
        {
          "output_type": "stream",
          "text": [
            "R is for rock S is for scissors and P is for paper R\n",
            "nobody wins. its a tie!\n"
          ],
          "name": "stdout"
        }
      ]
    }
  ]
}